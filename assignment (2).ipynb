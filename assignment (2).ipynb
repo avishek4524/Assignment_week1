{
 "cells": [
  {
   "cell_type": "code",
   "execution_count": 19,
   "id": "04991848-ffc1-43ff-84bb-2320c43b32c2",
   "metadata": {},
   "outputs": [],
   "source": [
    "#Q1. Create one variable containing following type of data:\n",
    "#(i) string\n",
    "a= \"Avishek\"\n",
    "#(ii) list\n",
    "b= {1,2,3,4,5,6}\n",
    "#(iii) float\n",
    "c= 4.0\n",
    "#(iv) tuple\n",
    "tuple= (1,2,4.0,\"avishek\")"
   ]
  },
  {
   "cell_type": "code",
   "execution_count": 29,
   "id": "f06fe122-00cd-4ec0-bb30-43f3a275f09d",
   "metadata": {},
   "outputs": [
    {
     "ename": "SyntaxError",
     "evalue": "invalid character '‘' (U+2018) (635084090.py, line 2)",
     "output_type": "error",
     "traceback": [
      "\u001b[0;36m  Cell \u001b[0;32mIn[29], line 2\u001b[0;36m\u001b[0m\n\u001b[0;31m    var1 = ‘ ‘\u001b[0m\n\u001b[0m           ^\u001b[0m\n\u001b[0;31mSyntaxError\u001b[0m\u001b[0;31m:\u001b[0m invalid character '‘' (U+2018)\n"
     ]
    }
   ],
   "source": [
    "#Q2. Given are some following variables containing data:\n",
    "var1 = ‘ ‘\n",
    "type(var1)\n",
    "var2 = ‘[ DS , ML , Python]’\n",
    "type(var2)\n",
    "var3 = [ ‘DS’ , ’ML’ , ‘Python’ ]\n",
    "type(var3)\n",
    "var4 = 1\n",
    "type(var4)\n"
   ]
  },
  {
   "cell_type": "code",
   "execution_count": 39,
   "id": "bfaf3b4d-e7b9-4a63-80a1-aeea94102cf0",
   "metadata": {},
   "outputs": [
    {
     "name": "stdout",
     "output_type": "stream",
     "text": [
      "2.0 2 0 100000\n"
     ]
    }
   ],
   "source": [
    "#Q3. Explain the use of the following operators using an example:\n",
    "#(i) /\n",
    "a=5\n",
    "b=10\n",
    "c=b/a\n",
    "d=b//a\n",
    "e=b%a\n",
    "f=b**a\n",
    "print(c,d,e,f)\n"
   ]
  },
  {
   "cell_type": "code",
   "execution_count": 52,
   "id": "abd0a3bf-66b9-482e-a322-3cf429e88acf",
   "metadata": {},
   "outputs": [
    {
     "name": "stdout",
     "output_type": "stream",
     "text": [
      "<class 'str'> avi\n",
      "<class 'int'> 50\n",
      "<class 'int'> 80\n",
      "<class 'int'> 34\n",
      "<class 'int'> 33\n",
      "<class 'int'> 233\n",
      "<class 'int'> 9\n",
      "<class 'bool'> True\n"
     ]
    }
   ],
   "source": [
    "'''\n",
    "Q4. Create a list of length 10 of your choice containing multiple types of data. Using for loop print the\n",
    "element and its data type.\n",
    "'''\n",
    "a= [\"avi\",50,80,34,33,233,9,True]\n",
    "for x in a:\n",
    "    print(type(x),x)\n",
    "         \n",
    "\n"
   ]
  },
  {
   "cell_type": "code",
   "execution_count": 18,
   "id": "13cb8064-33f7-484b-b620-7e370cdc6acf",
   "metadata": {},
   "outputs": [
    {
     "ename": "IndentationError",
     "evalue": "expected an indented block after 'while' statement on line 7 (3743642461.py, line 8)",
     "output_type": "error",
     "traceback": [
      "\u001b[0;36m  Cell \u001b[0;32mIn[18], line 8\u001b[0;36m\u001b[0m\n\u001b[0;31m    print (\"yes devisible\")\u001b[0m\n\u001b[0m    ^\u001b[0m\n\u001b[0;31mIndentationError\u001b[0m\u001b[0;31m:\u001b[0m expected an indented block after 'while' statement on line 7\n"
     ]
    }
   ],
   "source": [
    "'''\n",
    "Q5. Using a while loop, verify if the number A is purely divisible by number B and if so then how many\n",
    "times it can be divisible.\n",
    "'''\n",
    "a=8\n",
    "b=2\n",
    "while(a/b==0):\n",
    "print (\"yes devisible\")\n"
   ]
  },
  {
   "cell_type": "code",
   "execution_count": 14,
   "id": "ad63df85-e6cd-41e5-8876-afdd996ee653",
   "metadata": {},
   "outputs": [
    {
     "name": "stdout",
     "output_type": "stream",
     "text": [
      "yes divisible by 3\n",
      "yes divisible by 3\n",
      "yes divisible by 3\n",
      "yes divisible by 3\n",
      "yes divisible by 3\n",
      "yes divisible by 3\n",
      "yes divisible by 3\n",
      "yes divisible by 3\n",
      "yes divisible by 3\n",
      "yes divisible by 3\n"
     ]
    }
   ],
   "source": [
    "'''\n",
    "Q6. Create a list containing 25 int type data. Using for loop and if-else condition print if the element is\n",
    "divisible by 3 or not.\n",
    "'''\n",
    "a=[2,4,5,6,7,8,9,12,34,56,76,44,41,33,22,11,22,22,47,56,78,34,56,4,56,90,89,780,45,333,3333,10]\n",
    "for x in a:\n",
    "    \n",
    "    if x%3==0:\n",
    "    \n",
    "      print (\"yes divisible by 3\")\n",
    "        "
   ]
  },
  {
   "cell_type": "code",
   "execution_count": 22,
   "id": "0e8861ef-417c-42bb-b168-fbe40361b2c9",
   "metadata": {},
   "outputs": [
    {
     "data": {
      "text/plain": [
       "'avishek'"
      ]
     },
     "execution_count": 22,
     "metadata": {},
     "output_type": "execute_result"
    }
   ],
   "source": [
    "'''Q7. What do you understand about mutable and immutable data types? Give examples for both showing\n",
    "this property.'''\n",
    "ab = \"avishek\"\n",
    "be=[1,3,2,3,2,3,2,3,2,2,78]\n",
    "ab\n",
    "\n"
   ]
  },
  {
   "cell_type": "code",
   "execution_count": 23,
   "id": "44991ea7-d52c-4db4-b64d-b8f962435c9f",
   "metadata": {},
   "outputs": [
    {
     "data": {
      "text/plain": [
       "[1, 3, 2, 3, 2, 3, 2, 3, 2, 2, 78]"
      ]
     },
     "execution_count": 23,
     "metadata": {},
     "output_type": "execute_result"
    }
   ],
   "source": [
    "be"
   ]
  },
  {
   "cell_type": "code",
   "execution_count": 27,
   "id": "9a4ab29f-91a6-4557-bdb4-96549834f211",
   "metadata": {},
   "outputs": [
    {
     "data": {
      "text/plain": [
       "[1, 3, 2, 30, 2, 3, 2, 3, 2, 2, 78]"
      ]
     },
     "execution_count": 27,
     "metadata": {},
     "output_type": "execute_result"
    }
   ],
   "source": [
    "be[3] = 30\n",
    "be"
   ]
  },
  {
   "cell_type": "code",
   "execution_count": 28,
   "id": "c54ea98c-d042-4d35-89b0-692023ffff7e",
   "metadata": {},
   "outputs": [
    {
     "ename": "TypeError",
     "evalue": "'str' object does not support item assignment",
     "output_type": "error",
     "traceback": [
      "\u001b[0;31m---------------------------------------------------------------------------\u001b[0m",
      "\u001b[0;31mTypeError\u001b[0m                                 Traceback (most recent call last)",
      "Cell \u001b[0;32mIn[28], line 1\u001b[0m\n\u001b[0;32m----> 1\u001b[0m \u001b[43mab\u001b[49m\u001b[43m[\u001b[49m\u001b[38;5;241;43m3\u001b[39;49m\u001b[43m]\u001b[49m\u001b[38;5;241m=\u001b[39m\u001b[38;5;124m'\u001b[39m\u001b[38;5;124mf\u001b[39m\u001b[38;5;124m'\u001b[39m\n\u001b[1;32m      2\u001b[0m ab\n",
      "\u001b[0;31mTypeError\u001b[0m: 'str' object does not support item assignment"
     ]
    }
   ],
   "source": [
    "ab[3]='f'\n",
    "ab"
   ]
  }
 ],
 "metadata": {
  "kernelspec": {
   "display_name": "Python 3 (ipykernel)",
   "language": "python",
   "name": "python3"
  },
  "language_info": {
   "codemirror_mode": {
    "name": "ipython",
    "version": 3
   },
   "file_extension": ".py",
   "mimetype": "text/x-python",
   "name": "python",
   "nbconvert_exporter": "python",
   "pygments_lexer": "ipython3",
   "version": "3.10.8"
  }
 },
 "nbformat": 4,
 "nbformat_minor": 5
}
